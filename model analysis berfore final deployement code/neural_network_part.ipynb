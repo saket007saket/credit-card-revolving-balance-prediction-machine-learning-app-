{
 "cells": [
  {
   "cell_type": "code",
   "execution_count": 17,
   "metadata": {
    "colab": {
     "base_uri": "https://localhost:8080/",
     "height": 360
    },
    "colab_type": "code",
    "id": "yvnVWavT0TPy",
    "outputId": "b57448b8-9fba-44c5-c7a6-6fe30236ba7d"
   },
   "outputs": [
    {
     "name": "stdout",
     "output_type": "stream",
     "text": [
      "Collecting feature-engine\n",
      "  Downloading https://files.pythonhosted.org/packages/cb/b9/b1c99db7287c8d994ddec95e0af259c6b20cbceb08f6319e71b0ef5649fc/feature_engine-0.5.15-py2.py3-none-any.whl\n",
      "Requirement already satisfied: scikit-learn>=0.22.2 in /usr/local/lib/python3.6/dist-packages (from feature-engine) (0.22.2.post1)\n",
      "Collecting statsmodels>=0.11.1\n",
      "\u001b[?25l  Downloading https://files.pythonhosted.org/packages/cb/83/540fd83238a18abe6c2d280fa8e489ac5fcefa1f370f0ca1acd16ae1b860/statsmodels-0.11.1-cp36-cp36m-manylinux1_x86_64.whl (8.7MB)\n",
      "\u001b[K     |████████████████████████████████| 8.7MB 5.7MB/s \n",
      "\u001b[?25hRequirement already satisfied: numpy>=1.18.2 in /usr/local/lib/python3.6/dist-packages (from feature-engine) (1.18.5)\n",
      "Requirement already satisfied: scipy>=1.4.1 in /usr/local/lib/python3.6/dist-packages (from feature-engine) (1.4.1)\n",
      "Requirement already satisfied: pandas>=1.0.3 in /usr/local/lib/python3.6/dist-packages (from feature-engine) (1.0.5)\n",
      "Requirement already satisfied: joblib>=0.11 in /usr/local/lib/python3.6/dist-packages (from scikit-learn>=0.22.2->feature-engine) (0.16.0)\n",
      "Requirement already satisfied: patsy>=0.5 in /usr/local/lib/python3.6/dist-packages (from statsmodels>=0.11.1->feature-engine) (0.5.1)\n",
      "Requirement already satisfied: pytz>=2017.2 in /usr/local/lib/python3.6/dist-packages (from pandas>=1.0.3->feature-engine) (2018.9)\n",
      "Requirement already satisfied: python-dateutil>=2.6.1 in /usr/local/lib/python3.6/dist-packages (from pandas>=1.0.3->feature-engine) (2.8.1)\n",
      "Requirement already satisfied: six in /usr/local/lib/python3.6/dist-packages (from patsy>=0.5->statsmodels>=0.11.1->feature-engine) (1.15.0)\n",
      "Installing collected packages: statsmodels, feature-engine\n",
      "  Found existing installation: statsmodels 0.10.2\n",
      "    Uninstalling statsmodels-0.10.2:\n",
      "      Successfully uninstalled statsmodels-0.10.2\n",
      "Successfully installed feature-engine-0.5.15 statsmodels-0.11.1\n"
     ]
    }
   ],
   "source": [
    "import pandas as pd \n",
    "!pip install feature-engine"
   ]
  },
  {
   "cell_type": "code",
   "execution_count": 7,
   "metadata": {
    "colab": {},
    "colab_type": "code",
    "id": "0EVQTjrQ4LAx"
   },
   "outputs": [],
   "source": [
    "df=pd.read_csv('/content/data_no_null.csv',encoding='latin1')"
   ]
  },
  {
   "cell_type": "code",
   "execution_count": 8,
   "metadata": {
    "colab": {
     "base_uri": "https://localhost:8080/",
     "height": 660
    },
    "colab_type": "code",
    "id": "nmKBI2kF4d6V",
    "outputId": "71070c53-410a-4c87-a697-4266f1e84c32"
   },
   "outputs": [
    {
     "data": {
      "text/html": [
       "<div>\n",
       "<style scoped>\n",
       "    .dataframe tbody tr th:only-of-type {\n",
       "        vertical-align: middle;\n",
       "    }\n",
       "\n",
       "    .dataframe tbody tr th {\n",
       "        vertical-align: top;\n",
       "    }\n",
       "\n",
       "    .dataframe thead th {\n",
       "        text-align: right;\n",
       "    }\n",
       "</style>\n",
       "<table border=\"1\" class=\"dataframe\">\n",
       "  <thead>\n",
       "    <tr style=\"text-align: right;\">\n",
       "      <th></th>\n",
       "      <th>Unnamed: 0</th>\n",
       "      <th>loan_amnt</th>\n",
       "      <th>terms</th>\n",
       "      <th>Rate_of_intrst</th>\n",
       "      <th>grade</th>\n",
       "      <th>sub_grade</th>\n",
       "      <th>home_ownership</th>\n",
       "      <th>annual_inc</th>\n",
       "      <th>verification_status</th>\n",
       "      <th>purpose</th>\n",
       "      <th>State</th>\n",
       "      <th>debt_income_ratio</th>\n",
       "      <th>delinq_2yrs</th>\n",
       "      <th>inq_last_6mths</th>\n",
       "      <th>numb_credit</th>\n",
       "      <th>pub_rec</th>\n",
       "      <th>total revol_bal</th>\n",
       "      <th>total_credits</th>\n",
       "      <th>initial_list_status</th>\n",
       "      <th>total_rec_int</th>\n",
       "      <th>total_rec_late_fee</th>\n",
       "      <th>recoveries</th>\n",
       "      <th>collection_recovery_fee</th>\n",
       "      <th>collections_12_mths_ex_med</th>\n",
       "      <th>application_type</th>\n",
       "      <th>last_week_pay</th>\n",
       "      <th>acc_now_delinq</th>\n",
       "      <th>Emp_designation</th>\n",
       "      <th>Experience</th>\n",
       "      <th>mths_since_last_delinq</th>\n",
       "      <th>tot_curr_bal</th>\n",
       "      <th>tot_colle_amt</th>\n",
       "    </tr>\n",
       "  </thead>\n",
       "  <tbody>\n",
       "    <tr>\n",
       "      <th>0</th>\n",
       "      <td>0</td>\n",
       "      <td>14350</td>\n",
       "      <td>36 months</td>\n",
       "      <td>19.19</td>\n",
       "      <td>E</td>\n",
       "      <td>E3</td>\n",
       "      <td>OWN</td>\n",
       "      <td>28700.0</td>\n",
       "      <td>Source Verified</td>\n",
       "      <td>debt_consolidation</td>\n",
       "      <td>FL</td>\n",
       "      <td>33.88</td>\n",
       "      <td>0.0</td>\n",
       "      <td>1.0</td>\n",
       "      <td>14.0</td>\n",
       "      <td>1.0</td>\n",
       "      <td>22515.0</td>\n",
       "      <td>28.0</td>\n",
       "      <td>f</td>\n",
       "      <td>1173.84</td>\n",
       "      <td>0.0</td>\n",
       "      <td>0.0</td>\n",
       "      <td>0.0</td>\n",
       "      <td>0.0</td>\n",
       "      <td>INDIVIDUAL</td>\n",
       "      <td>26th week</td>\n",
       "      <td>0.0</td>\n",
       "      <td>clerk</td>\n",
       "      <td>9 years</td>\n",
       "      <td>50.0</td>\n",
       "      <td>28699.0</td>\n",
       "      <td>0.0</td>\n",
       "    </tr>\n",
       "    <tr>\n",
       "      <th>1</th>\n",
       "      <td>1</td>\n",
       "      <td>4800</td>\n",
       "      <td>36 months</td>\n",
       "      <td>10.99</td>\n",
       "      <td>B</td>\n",
       "      <td>B4</td>\n",
       "      <td>MORTGAGE</td>\n",
       "      <td>65000.0</td>\n",
       "      <td>Source Verified</td>\n",
       "      <td>home_improvement</td>\n",
       "      <td>MD</td>\n",
       "      <td>3.64</td>\n",
       "      <td>0.0</td>\n",
       "      <td>1.0</td>\n",
       "      <td>6.0</td>\n",
       "      <td>0.0</td>\n",
       "      <td>7624.0</td>\n",
       "      <td>13.0</td>\n",
       "      <td>w</td>\n",
       "      <td>83.95</td>\n",
       "      <td>0.0</td>\n",
       "      <td>0.0</td>\n",
       "      <td>0.0</td>\n",
       "      <td>0.0</td>\n",
       "      <td>INDIVIDUAL</td>\n",
       "      <td>9th week</td>\n",
       "      <td>0.0</td>\n",
       "      <td>Human Resources Specialist</td>\n",
       "      <td>&lt; 1 year</td>\n",
       "      <td>31.0</td>\n",
       "      <td>9974.0</td>\n",
       "      <td>0.0</td>\n",
       "    </tr>\n",
       "    <tr>\n",
       "      <th>2</th>\n",
       "      <td>2</td>\n",
       "      <td>10000</td>\n",
       "      <td>36 months</td>\n",
       "      <td>7.26</td>\n",
       "      <td>A</td>\n",
       "      <td>A4</td>\n",
       "      <td>OWN</td>\n",
       "      <td>45000.0</td>\n",
       "      <td>Not Verified</td>\n",
       "      <td>debt_consolidation</td>\n",
       "      <td>OH</td>\n",
       "      <td>18.42</td>\n",
       "      <td>0.0</td>\n",
       "      <td>0.0</td>\n",
       "      <td>5.0</td>\n",
       "      <td>0.0</td>\n",
       "      <td>10877.0</td>\n",
       "      <td>19.0</td>\n",
       "      <td>w</td>\n",
       "      <td>56.47</td>\n",
       "      <td>0.0</td>\n",
       "      <td>0.0</td>\n",
       "      <td>0.0</td>\n",
       "      <td>0.0</td>\n",
       "      <td>INDIVIDUAL</td>\n",
       "      <td>9th week</td>\n",
       "      <td>0.0</td>\n",
       "      <td>Driver</td>\n",
       "      <td>2 years</td>\n",
       "      <td>34.0</td>\n",
       "      <td>38295.0</td>\n",
       "      <td>65.0</td>\n",
       "    </tr>\n",
       "    <tr>\n",
       "      <th>3</th>\n",
       "      <td>3</td>\n",
       "      <td>15000</td>\n",
       "      <td>36 months</td>\n",
       "      <td>19.72</td>\n",
       "      <td>D</td>\n",
       "      <td>D5</td>\n",
       "      <td>RENT</td>\n",
       "      <td>105000.0</td>\n",
       "      <td>Not Verified</td>\n",
       "      <td>debt_consolidation</td>\n",
       "      <td>VA</td>\n",
       "      <td>14.97</td>\n",
       "      <td>0.0</td>\n",
       "      <td>2.0</td>\n",
       "      <td>10.0</td>\n",
       "      <td>0.0</td>\n",
       "      <td>13712.0</td>\n",
       "      <td>21.0</td>\n",
       "      <td>f</td>\n",
       "      <td>4858.62</td>\n",
       "      <td>0.0</td>\n",
       "      <td>0.0</td>\n",
       "      <td>0.0</td>\n",
       "      <td>0.0</td>\n",
       "      <td>INDIVIDUAL</td>\n",
       "      <td>135th week</td>\n",
       "      <td>0.0</td>\n",
       "      <td>Us office of Personnel Management</td>\n",
       "      <td>10+ years</td>\n",
       "      <td>46.0</td>\n",
       "      <td>55564.0</td>\n",
       "      <td>0.0</td>\n",
       "    </tr>\n",
       "    <tr>\n",
       "      <th>4</th>\n",
       "      <td>4</td>\n",
       "      <td>16000</td>\n",
       "      <td>36 months</td>\n",
       "      <td>10.64</td>\n",
       "      <td>B</td>\n",
       "      <td>B2</td>\n",
       "      <td>RENT</td>\n",
       "      <td>52000.0</td>\n",
       "      <td>Verified</td>\n",
       "      <td>credit_card</td>\n",
       "      <td>CA</td>\n",
       "      <td>20.16</td>\n",
       "      <td>0.0</td>\n",
       "      <td>0.0</td>\n",
       "      <td>11.0</td>\n",
       "      <td>0.0</td>\n",
       "      <td>35835.0</td>\n",
       "      <td>27.0</td>\n",
       "      <td>w</td>\n",
       "      <td>2296.41</td>\n",
       "      <td>0.0</td>\n",
       "      <td>0.0</td>\n",
       "      <td>0.0</td>\n",
       "      <td>0.0</td>\n",
       "      <td>INDIVIDUAL</td>\n",
       "      <td>96th week</td>\n",
       "      <td>0.0</td>\n",
       "      <td>LAUSD-HOLLYWOOD HIGH SCHOOL</td>\n",
       "      <td>10+ years</td>\n",
       "      <td>31.0</td>\n",
       "      <td>47159.0</td>\n",
       "      <td>0.0</td>\n",
       "    </tr>\n",
       "    <tr>\n",
       "      <th>...</th>\n",
       "      <td>...</td>\n",
       "      <td>...</td>\n",
       "      <td>...</td>\n",
       "      <td>...</td>\n",
       "      <td>...</td>\n",
       "      <td>...</td>\n",
       "      <td>...</td>\n",
       "      <td>...</td>\n",
       "      <td>...</td>\n",
       "      <td>...</td>\n",
       "      <td>...</td>\n",
       "      <td>...</td>\n",
       "      <td>...</td>\n",
       "      <td>...</td>\n",
       "      <td>...</td>\n",
       "      <td>...</td>\n",
       "      <td>...</td>\n",
       "      <td>...</td>\n",
       "      <td>...</td>\n",
       "      <td>...</td>\n",
       "      <td>...</td>\n",
       "      <td>...</td>\n",
       "      <td>...</td>\n",
       "      <td>...</td>\n",
       "      <td>...</td>\n",
       "      <td>...</td>\n",
       "      <td>...</td>\n",
       "      <td>...</td>\n",
       "      <td>...</td>\n",
       "      <td>...</td>\n",
       "      <td>...</td>\n",
       "      <td>...</td>\n",
       "    </tr>\n",
       "    <tr>\n",
       "      <th>887374</th>\n",
       "      <td>887374</td>\n",
       "      <td>15000</td>\n",
       "      <td>36 months</td>\n",
       "      <td>6.49</td>\n",
       "      <td>A</td>\n",
       "      <td>A2</td>\n",
       "      <td>MORTGAGE</td>\n",
       "      <td>97250.0</td>\n",
       "      <td>Not Verified</td>\n",
       "      <td>credit_card</td>\n",
       "      <td>TX</td>\n",
       "      <td>12.46</td>\n",
       "      <td>0.0</td>\n",
       "      <td>0.0</td>\n",
       "      <td>12.0</td>\n",
       "      <td>0.0</td>\n",
       "      <td>12201.0</td>\n",
       "      <td>24.0</td>\n",
       "      <td>w</td>\n",
       "      <td>1180.32</td>\n",
       "      <td>0.0</td>\n",
       "      <td>0.0</td>\n",
       "      <td>0.0</td>\n",
       "      <td>0.0</td>\n",
       "      <td>INDIVIDUAL</td>\n",
       "      <td>83th week</td>\n",
       "      <td>0.0</td>\n",
       "      <td>Network administrator</td>\n",
       "      <td>1 year</td>\n",
       "      <td>77.0</td>\n",
       "      <td>143920.0</td>\n",
       "      <td>0.0</td>\n",
       "    </tr>\n",
       "    <tr>\n",
       "      <th>887375</th>\n",
       "      <td>887375</td>\n",
       "      <td>35000</td>\n",
       "      <td>60 months</td>\n",
       "      <td>25.89</td>\n",
       "      <td>G</td>\n",
       "      <td>G3</td>\n",
       "      <td>OWN</td>\n",
       "      <td>180000.0</td>\n",
       "      <td>Verified</td>\n",
       "      <td>debt_consolidation</td>\n",
       "      <td>NY</td>\n",
       "      <td>11.78</td>\n",
       "      <td>2.0</td>\n",
       "      <td>2.0</td>\n",
       "      <td>21.0</td>\n",
       "      <td>0.0</td>\n",
       "      <td>52584.0</td>\n",
       "      <td>33.0</td>\n",
       "      <td>f</td>\n",
       "      <td>6508.41</td>\n",
       "      <td>0.0</td>\n",
       "      <td>0.0</td>\n",
       "      <td>0.0</td>\n",
       "      <td>0.0</td>\n",
       "      <td>INDIVIDUAL</td>\n",
       "      <td>39th week</td>\n",
       "      <td>0.0</td>\n",
       "      <td>Credit Risk Analyst</td>\n",
       "      <td>1 year</td>\n",
       "      <td>19.0</td>\n",
       "      <td>772713.0</td>\n",
       "      <td>0.0</td>\n",
       "    </tr>\n",
       "    <tr>\n",
       "      <th>887376</th>\n",
       "      <td>887376</td>\n",
       "      <td>14000</td>\n",
       "      <td>60 months</td>\n",
       "      <td>17.51</td>\n",
       "      <td>E</td>\n",
       "      <td>E4</td>\n",
       "      <td>OWN</td>\n",
       "      <td>56000.0</td>\n",
       "      <td>Verified</td>\n",
       "      <td>home_improvement</td>\n",
       "      <td>NH</td>\n",
       "      <td>16.44</td>\n",
       "      <td>0.0</td>\n",
       "      <td>3.0</td>\n",
       "      <td>11.0</td>\n",
       "      <td>1.0</td>\n",
       "      <td>10948.0</td>\n",
       "      <td>25.0</td>\n",
       "      <td>f</td>\n",
       "      <td>3456.24</td>\n",
       "      <td>0.0</td>\n",
       "      <td>0.0</td>\n",
       "      <td>0.0</td>\n",
       "      <td>0.0</td>\n",
       "      <td>INDIVIDUAL</td>\n",
       "      <td>87th week</td>\n",
       "      <td>0.0</td>\n",
       "      <td>USPS/Nashua L&amp;DC</td>\n",
       "      <td>10+ years</td>\n",
       "      <td>54.0</td>\n",
       "      <td>71973.5</td>\n",
       "      <td>0.0</td>\n",
       "    </tr>\n",
       "    <tr>\n",
       "      <th>887377</th>\n",
       "      <td>887377</td>\n",
       "      <td>20000</td>\n",
       "      <td>36 months</td>\n",
       "      <td>7.26</td>\n",
       "      <td>A</td>\n",
       "      <td>A4</td>\n",
       "      <td>MORTGAGE</td>\n",
       "      <td>100000.0</td>\n",
       "      <td>Source Verified</td>\n",
       "      <td>credit_card</td>\n",
       "      <td>MD</td>\n",
       "      <td>15.00</td>\n",
       "      <td>0.0</td>\n",
       "      <td>0.0</td>\n",
       "      <td>7.0</td>\n",
       "      <td>0.0</td>\n",
       "      <td>33599.0</td>\n",
       "      <td>11.0</td>\n",
       "      <td>w</td>\n",
       "      <td>766.84</td>\n",
       "      <td>0.0</td>\n",
       "      <td>0.0</td>\n",
       "      <td>0.0</td>\n",
       "      <td>0.0</td>\n",
       "      <td>INDIVIDUAL</td>\n",
       "      <td>35th week</td>\n",
       "      <td>0.0</td>\n",
       "      <td>Computer Engineer</td>\n",
       "      <td>&lt; 1 year</td>\n",
       "      <td>33.0</td>\n",
       "      <td>291998.0</td>\n",
       "      <td>0.0</td>\n",
       "    </tr>\n",
       "    <tr>\n",
       "      <th>887378</th>\n",
       "      <td>887378</td>\n",
       "      <td>2700</td>\n",
       "      <td>60 months</td>\n",
       "      <td>7.49</td>\n",
       "      <td>A</td>\n",
       "      <td>A4</td>\n",
       "      <td>OWN</td>\n",
       "      <td>12000.0</td>\n",
       "      <td>Not Verified</td>\n",
       "      <td>debt_consolidation</td>\n",
       "      <td>FL</td>\n",
       "      <td>28.00</td>\n",
       "      <td>0.0</td>\n",
       "      <td>0.0</td>\n",
       "      <td>7.0</td>\n",
       "      <td>0.0</td>\n",
       "      <td>5118.0</td>\n",
       "      <td>7.0</td>\n",
       "      <td>f</td>\n",
       "      <td>326.06</td>\n",
       "      <td>0.0</td>\n",
       "      <td>0.0</td>\n",
       "      <td>0.0</td>\n",
       "      <td>0.0</td>\n",
       "      <td>INDIVIDUAL</td>\n",
       "      <td>104th week</td>\n",
       "      <td>0.0</td>\n",
       "      <td>Jimmy John's Sandwiches</td>\n",
       "      <td>2 years</td>\n",
       "      <td>34.0</td>\n",
       "      <td>131978.0</td>\n",
       "      <td>0.0</td>\n",
       "    </tr>\n",
       "  </tbody>\n",
       "</table>\n",
       "<p>887379 rows × 32 columns</p>\n",
       "</div>"
      ],
      "text/plain": [
       "        Unnamed: 0  loan_amnt   ... tot_curr_bal  tot_colle_amt\n",
       "0                0       14350  ...      28699.0            0.0\n",
       "1                1        4800  ...       9974.0            0.0\n",
       "2                2       10000  ...      38295.0           65.0\n",
       "3                3       15000  ...      55564.0            0.0\n",
       "4                4       16000  ...      47159.0            0.0\n",
       "...            ...         ...  ...          ...            ...\n",
       "887374      887374       15000  ...     143920.0            0.0\n",
       "887375      887375       35000  ...     772713.0            0.0\n",
       "887376      887376       14000  ...      71973.5            0.0\n",
       "887377      887377       20000  ...     291998.0            0.0\n",
       "887378      887378        2700  ...     131978.0            0.0\n",
       "\n",
       "[887379 rows x 32 columns]"
      ]
     },
     "execution_count": 8,
     "metadata": {
      "tags": []
     },
     "output_type": "execute_result"
    }
   ],
   "source": [
    "df"
   ]
  },
  {
   "cell_type": "code",
   "execution_count": 9,
   "metadata": {
    "colab": {},
    "colab_type": "code",
    "id": "gvzDHTYT4fbn"
   },
   "outputs": [],
   "source": [
    "# list of columns not necessary for prediction\n",
    "cols_to_drop=['Unnamed: 0','sub_grade','State','Emp_designation','last_week_pay']\n",
    "# dropping the unnecessary columns\n",
    "df=df.drop(columns=cols_to_drop,axis=1)"
   ]
  },
  {
   "cell_type": "code",
   "execution_count": 11,
   "metadata": {
    "colab": {},
    "colab_type": "code",
    "id": "RmhZgrJE-LCM"
   },
   "outputs": [],
   "source": [
    "#df"
   ]
  },
  {
   "cell_type": "code",
   "execution_count": 12,
   "metadata": {
    "colab": {
     "base_uri": "https://localhost:8080/",
     "height": 153
    },
    "colab_type": "code",
    "id": "eIzGZC1Z-Mm9",
    "outputId": "95d8c223-311c-4da2-caad-a66d82ad6f3b"
   },
   "outputs": [
    {
     "data": {
      "text/plain": [
       "['terms',\n",
       " 'grade',\n",
       " 'home_ownership',\n",
       " 'verification_status',\n",
       " 'purpose',\n",
       " 'initial_list_status',\n",
       " 'application_type',\n",
       " 'Experience']"
      ]
     },
     "execution_count": 12,
     "metadata": {
      "tags": []
     },
     "output_type": "execute_result"
    }
   ],
   "source": [
    "categorical = [col for col in df.columns if df[col].dtypes == 'O']\n",
    "\n",
    "categorical"
   ]
  },
  {
   "cell_type": "code",
   "execution_count": 14,
   "metadata": {
    "colab": {},
    "colab_type": "code",
    "id": "IXa7JJXY-ZiY"
   },
   "outputs": [],
   "source": [
    "#df[['A','B']] = df[['A','B']].replace([1, 3, 2], [3, 6, 7])\n",
    "df[['purpose']] = df[['purpose']].replace(['car','house','renewable_energy','wedding','vacation','moving','medical','educational'],\n",
    "                                              ['major_purchase','major_purchase','small_business','other','other','other','medical(or)education','medical(or)education'])"
   ]
  },
  {
   "cell_type": "code",
   "execution_count": 15,
   "metadata": {
    "colab": {
     "base_uri": "https://localhost:8080/",
     "height": 153
    },
    "colab_type": "code",
    "id": "y0afMRUG-1Im",
    "outputId": "0dbcecc2-c2b4-46c8-9761-6e281ff8aa02"
   },
   "outputs": [
    {
     "data": {
      "text/plain": [
       "medical(or)education      8963\n",
       "small_business           10952\n",
       "major_purchase           29847\n",
       "home_improvement         51829\n",
       "other                    55391\n",
       "credit_card             206182\n",
       "debt_consolidation      524215\n",
       "Name: purpose, dtype: int64"
      ]
     },
     "execution_count": 15,
     "metadata": {
      "tags": []
     },
     "output_type": "execute_result"
    }
   ],
   "source": [
    "df.purpose.value_counts().sort_values()"
   ]
  },
  {
   "cell_type": "code",
   "execution_count": 19,
   "metadata": {
    "colab": {},
    "colab_type": "code",
    "id": "PqgtB5C6--OW"
   },
   "outputs": [],
   "source": [
    "from feature_engine.categorical_encoders import CountFrequencyCategoricalEncoder\n",
    "count_enc = CountFrequencyCategoricalEncoder(\n",
    "    encoding_method='frequency', # to do frequency ==> encoding_method='frequency'\n",
    "    variables=categorical)\n",
    "\n",
    "df_encoded = count_enc.fit_transform(df)"
   ]
  },
  {
   "cell_type": "code",
   "execution_count": 21,
   "metadata": {
    "colab": {},
    "colab_type": "code",
    "id": "h5uZFFcO_FYK"
   },
   "outputs": [],
   "source": [
    "#count_enc.encoder_dict_"
   ]
  },
  {
   "cell_type": "code",
   "execution_count": 22,
   "metadata": {
    "colab": {
     "base_uri": "https://localhost:8080/",
     "height": 170
    },
    "colab_type": "code",
    "id": "9Szzke1P_iP2",
    "outputId": "9ebdb420-f5d9-4820-8374-b10a0989f969"
   },
   "outputs": [
    {
     "data": {
      "text/plain": [
       "Index(['loan_amnt ', 'terms', 'Rate_of_intrst', 'grade', 'home_ownership',\n",
       "       'annual_inc', 'verification_status', 'purpose', 'debt_income_ratio',\n",
       "       'delinq_2yrs', 'inq_last_6mths', 'numb_credit', 'pub_rec',\n",
       "       'total revol_bal', 'total_credits', 'initial_list_status',\n",
       "       'total_rec_int', 'total_rec_late_fee', 'recoveries',\n",
       "       'collection_recovery_fee', 'collections_12_mths_ex_med',\n",
       "       'application_type', 'acc_now_delinq', 'Experience',\n",
       "       'mths_since_last_delinq', 'tot_curr_bal', 'tot_colle_amt'],\n",
       "      dtype='object')"
      ]
     },
     "execution_count": 22,
     "metadata": {
      "tags": []
     },
     "output_type": "execute_result"
    }
   ],
   "source": [
    "df_encoded.columns"
   ]
  },
  {
   "cell_type": "code",
   "execution_count": 23,
   "metadata": {
    "colab": {},
    "colab_type": "code",
    "id": "b-PRVkoA_wbA"
   },
   "outputs": [],
   "source": [
    "X=df_encoded[['loan_amnt ',  'Rate_of_intrst', 'grade', 'home_ownership',\n",
    "       'annual_inc', 'verification_status', 'purpose', 'debt_income_ratio',\n",
    "       'delinq_2yrs',  'numb_credit', 'pub_rec',\n",
    "        'total_credits', 'initial_list_status',\n",
    "       'total_rec_int',  'recoveries',\n",
    "       'collection_recovery_fee', \n",
    "        'Experience',\n",
    "       'mths_since_last_delinq', 'tot_curr_bal', 'tot_colle_amt']]\n",
    "Y=df_encoded[['total revol_bal']]"
   ]
  },
  {
   "cell_type": "code",
   "execution_count": 24,
   "metadata": {
    "colab": {},
    "colab_type": "code",
    "id": "ktYUMsV0AwOa"
   },
   "outputs": [],
   "source": [
    "from sklearn.preprocessing import StandardScaler\n",
    "sc_X = StandardScaler()\n",
    "sc_y = StandardScaler()\n",
    "X = sc_X.fit_transform(X)\n",
    "Y = sc_y.fit_transform(Y)"
   ]
  },
  {
   "cell_type": "code",
   "execution_count": 26,
   "metadata": {
    "colab": {
     "base_uri": "https://localhost:8080/",
     "height": 34
    },
    "colab_type": "code",
    "id": "3M6QFApjA2_I",
    "outputId": "262be21a-83b2-419d-d898-91099f7d107b"
   },
   "outputs": [
    {
     "data": {
      "text/plain": [
       "((621165, 20), (266214, 20))"
      ]
     },
     "execution_count": 26,
     "metadata": {
      "tags": []
     },
     "output_type": "execute_result"
    }
   ],
   "source": [
    "# let's separate into training and testing set\n",
    "from sklearn.model_selection import train_test_split\n",
    "\n",
    "X_train, X_test, y_train, y_test = train_test_split(X  ,  # predictors\n",
    "                                                    Y,  # target\n",
    "    test_size=0.3,  # percentage of obs in test set\n",
    "    random_state=0)  # seed to ensure reproducibility\n",
    "\n",
    "X_train.shape, X_test.shape"
   ]
  },
  {
   "cell_type": "code",
   "execution_count": 27,
   "metadata": {
    "colab": {},
    "colab_type": "code",
    "id": "DJm6-_FDA8Og"
   },
   "outputs": [],
   "source": [
    "from tensorflow.keras.models import Sequential\n",
    "from tensorflow.keras.layers import Dense, Activation\n",
    "from tensorflow.keras.optimizers import Adam"
   ]
  },
  {
   "cell_type": "code",
   "execution_count": 29,
   "metadata": {
    "colab": {},
    "colab_type": "code",
    "id": "EGFdbW6tBY-l"
   },
   "outputs": [],
   "source": [
    "model = Sequential()\n",
    "\n",
    "model.add(Dense(14,activation='relu'))\n",
    "model.add(Dense(14,activation='relu'))\n",
    "model.add(Dense(14,activation='relu'))\n",
    "model.add(Dense(14,activation='relu'))\n",
    "model.add(Dense(14,activation='relu'))\n",
    "\n",
    "\n",
    "model.add(Dense(1))\n",
    "\n",
    "model.compile(optimizer='adam',loss='mse')"
   ]
  },
  {
   "cell_type": "code",
   "execution_count": 30,
   "metadata": {
    "colab": {},
    "colab_type": "code",
    "id": "nhiRssuoCITi"
   },
   "outputs": [],
   "source": [
    "from tensorflow.keras.callbacks import EarlyStopping"
   ]
  },
  {
   "cell_type": "code",
   "execution_count": 31,
   "metadata": {
    "colab": {},
    "colab_type": "code",
    "id": "HhZEQzW6CJM0"
   },
   "outputs": [],
   "source": [
    "early_stop = EarlyStopping(monitor='val_loss', mode='min', verbose=1, patience=25)"
   ]
  },
  {
   "cell_type": "code",
   "execution_count": 32,
   "metadata": {
    "colab": {
     "base_uri": "https://localhost:8080/",
     "height": 1000
    },
    "colab_type": "code",
    "id": "c75HRXjOCSld",
    "outputId": "0440295d-a864-454a-cc47-d85318262cf8"
   },
   "outputs": [
    {
     "name": "stdout",
     "output_type": "stream",
     "text": [
      "Epoch 1/700\n",
      "19412/19412 [==============================] - 36s 2ms/step - loss: 0.7896 - val_loss: 0.6251\n",
      "Epoch 2/700\n",
      "19412/19412 [==============================] - 37s 2ms/step - loss: 0.7660 - val_loss: 0.5956\n",
      "Epoch 3/700\n",
      "19412/19412 [==============================] - 36s 2ms/step - loss: 0.7282 - val_loss: 0.6031\n",
      "Epoch 4/700\n",
      "19412/19412 [==============================] - 38s 2ms/step - loss: 0.6523 - val_loss: 0.5978\n",
      "Epoch 5/700\n",
      "19412/19412 [==============================] - 36s 2ms/step - loss: 0.6691 - val_loss: 0.5894\n",
      "Epoch 6/700\n",
      "19412/19412 [==============================] - 38s 2ms/step - loss: 0.6395 - val_loss: 0.5848\n",
      "Epoch 7/700\n",
      "19412/19412 [==============================] - 37s 2ms/step - loss: 0.6437 - val_loss: 0.6452\n",
      "Epoch 8/700\n",
      "19412/19412 [==============================] - 36s 2ms/step - loss: 0.6608 - val_loss: 0.5951\n",
      "Epoch 9/700\n",
      "19412/19412 [==============================] - 36s 2ms/step - loss: 0.6406 - val_loss: 0.6308\n",
      "Epoch 10/700\n",
      "19412/19412 [==============================] - 36s 2ms/step - loss: 0.6309 - val_loss: 0.6618\n",
      "Epoch 11/700\n",
      "19412/19412 [==============================] - 36s 2ms/step - loss: 0.6255 - val_loss: 0.5773\n",
      "Epoch 12/700\n",
      "19412/19412 [==============================] - 36s 2ms/step - loss: 0.6295 - val_loss: 0.6291\n",
      "Epoch 13/700\n",
      "19412/19412 [==============================] - 37s 2ms/step - loss: 0.6395 - val_loss: 0.5954\n",
      "Epoch 14/700\n",
      "19412/19412 [==============================] - 36s 2ms/step - loss: 0.6350 - val_loss: 0.5851\n",
      "Epoch 15/700\n",
      "19412/19412 [==============================] - 40s 2ms/step - loss: 0.6310 - val_loss: 0.5944\n",
      "Epoch 16/700\n",
      "19412/19412 [==============================] - 36s 2ms/step - loss: 0.6304 - val_loss: 0.5891\n",
      "Epoch 17/700\n",
      "19412/19412 [==============================] - 36s 2ms/step - loss: 0.6248 - val_loss: 0.5719\n",
      "Epoch 18/700\n",
      "19412/19412 [==============================] - 36s 2ms/step - loss: 0.6203 - val_loss: 0.5746\n",
      "Epoch 19/700\n",
      "19412/19412 [==============================] - 36s 2ms/step - loss: 0.6253 - val_loss: 0.8196\n",
      "Epoch 20/700\n",
      "19412/19412 [==============================] - 36s 2ms/step - loss: 1.2683 - val_loss: 0.5716\n",
      "Epoch 21/700\n",
      "19412/19412 [==============================] - 38s 2ms/step - loss: 0.6162 - val_loss: 0.5818\n",
      "Epoch 22/700\n",
      "19412/19412 [==============================] - 37s 2ms/step - loss: 0.6181 - val_loss: 0.5879\n",
      "Epoch 23/700\n",
      "19412/19412 [==============================] - 36s 2ms/step - loss: 0.8674 - val_loss: 0.5815\n",
      "Epoch 24/700\n",
      "19412/19412 [==============================] - 41s 2ms/step - loss: 0.6178 - val_loss: 0.5837\n",
      "Epoch 25/700\n",
      "19412/19412 [==============================] - 37s 2ms/step - loss: 0.6287 - val_loss: 0.5757\n",
      "Epoch 26/700\n",
      "19412/19412 [==============================] - 36s 2ms/step - loss: 0.6180 - val_loss: 0.5854\n",
      "Epoch 27/700\n",
      "19412/19412 [==============================] - 36s 2ms/step - loss: 0.6140 - val_loss: 0.6001\n",
      "Epoch 28/700\n",
      "19412/19412 [==============================] - 36s 2ms/step - loss: 0.6133 - val_loss: 0.5844\n",
      "Epoch 29/700\n",
      "19412/19412 [==============================] - 37s 2ms/step - loss: 0.6132 - val_loss: 0.5918\n",
      "Epoch 30/700\n",
      "19412/19412 [==============================] - 37s 2ms/step - loss: 0.6263 - val_loss: 0.5751\n",
      "Epoch 31/700\n",
      "19412/19412 [==============================] - 36s 2ms/step - loss: 0.6097 - val_loss: 0.5968\n",
      "Epoch 32/700\n",
      "19412/19412 [==============================] - 36s 2ms/step - loss: 0.6227 - val_loss: 0.6035\n",
      "Epoch 33/700\n",
      "19412/19412 [==============================] - 42s 2ms/step - loss: 0.6109 - val_loss: 0.6201\n",
      "Epoch 34/700\n",
      "19412/19412 [==============================] - 36s 2ms/step - loss: 0.6244 - val_loss: 0.6011\n",
      "Epoch 35/700\n",
      "19412/19412 [==============================] - 37s 2ms/step - loss: 0.5956 - val_loss: 0.5925\n",
      "Epoch 36/700\n",
      "19412/19412 [==============================] - 37s 2ms/step - loss: 0.6024 - val_loss: 0.6093\n",
      "Epoch 37/700\n",
      "19412/19412 [==============================] - 36s 2ms/step - loss: 0.6192 - val_loss: 0.6224\n",
      "Epoch 38/700\n",
      "19412/19412 [==============================] - 38s 2ms/step - loss: 0.6107 - val_loss: 0.6558\n",
      "Epoch 39/700\n",
      "19412/19412 [==============================] - 41s 2ms/step - loss: 0.6075 - val_loss: 0.6055\n",
      "Epoch 40/700\n",
      "19412/19412 [==============================] - 36s 2ms/step - loss: 0.6055 - val_loss: 0.6490\n",
      "Epoch 41/700\n",
      "19412/19412 [==============================] - 38s 2ms/step - loss: 0.5960 - val_loss: 0.6087\n",
      "Epoch 42/700\n",
      "19412/19412 [==============================] - 38s 2ms/step - loss: 0.6060 - val_loss: 0.6151\n",
      "Epoch 43/700\n",
      "19412/19412 [==============================] - 36s 2ms/step - loss: 0.6000 - val_loss: 0.6231\n",
      "Epoch 44/700\n",
      "19412/19412 [==============================] - 36s 2ms/step - loss: 0.6036 - val_loss: 0.6428\n",
      "Epoch 45/700\n",
      "19412/19412 [==============================] - 36s 2ms/step - loss: 0.6067 - val_loss: 0.6081\n",
      "Epoch 00045: early stopping\n"
     ]
    },
    {
     "data": {
      "text/plain": [
       "<tensorflow.python.keras.callbacks.History at 0x7f4fb82844e0>"
      ]
     },
     "execution_count": 32,
     "metadata": {
      "tags": []
     },
     "output_type": "execute_result"
    }
   ],
   "source": [
    "model.fit(x=X_train, \n",
    "          y=y_train, \n",
    "          epochs=700,\n",
    "          validation_data=(X_test, y_test), verbose=1,\n",
    "          callbacks=[early_stop]\n",
    "          )"
   ]
  },
  {
   "cell_type": "code",
   "execution_count": 33,
   "metadata": {
    "colab": {
     "base_uri": "https://localhost:8080/",
     "height": 285
    },
    "colab_type": "code",
    "id": "LNcssvm_Cdv1",
    "outputId": "68b50d58-9d7a-4484-d7e5-e553a19c52ca"
   },
   "outputs": [
    {
     "data": {
      "text/plain": [
       "<matplotlib.axes._subplots.AxesSubplot at 0x7f4fb5339d68>"
      ]
     },
     "execution_count": 33,
     "metadata": {
      "tags": []
     },
     "output_type": "execute_result"
    },
    {
     "data": {
      "image/png": "[encoded data removed]",
      "text/plain": [
       "<Figure size 432x288 with 1 Axes>"
      ]
     },
     "metadata": {
      "needs_background": "light",
      "tags": []
     },
     "output_type": "display_data"
    }
   ],
   "source": [
    "model_loss = pd.DataFrame(model.history.history)\n",
    "model_loss.plot()"
   ]
  },
  {
   "cell_type": "code",
   "execution_count": 40,
   "metadata": {
    "colab": {},
    "colab_type": "code",
    "id": "ixAKmGFDJDxt"
   },
   "outputs": [],
   "source": [
    "from sklearn.metrics import mean_squared_error,mean_absolute_error,explained_variance_score\n",
    "from sklearn.metrics import r2_score as rsq\n"
   ]
  },
  {
   "cell_type": "code",
   "execution_count": 41,
   "metadata": {
    "colab": {
     "base_uri": "https://localhost:8080/",
     "height": 34
    },
    "colab_type": "code",
    "id": "Aki1xYpSJSSu",
    "outputId": "c3e33b0b-3f9f-44f9-d6ef-bd4edac81493"
   },
   "outputs": [
    {
     "data": {
      "text/plain": [
       "0.4220389082900906"
      ]
     },
     "execution_count": 41,
     "metadata": {
      "tags": []
     },
     "output_type": "execute_result"
    }
   ],
   "source": [
    "nn_pred_train=sc_y.inverse_transform(model.predict(X_train))\n",
    "nn_train_r2=rsq(sc_y.inverse_transform(y_train),nn_pred_train)            \n",
    "nn_train_r2 "
   ]
  },
  {
   "cell_type": "code",
   "execution_count": 42,
   "metadata": {
    "colab": {
     "base_uri": "https://localhost:8080/",
     "height": 34
    },
    "colab_type": "code",
    "id": "ychGBzc6JkQQ",
    "outputId": "68f693a7-f5ee-4508-acfc-6ea298f435e2"
   },
   "outputs": [
    {
     "data": {
      "text/plain": [
       "0.33690672633185126"
      ]
     },
     "execution_count": 42,
     "metadata": {
      "tags": []
     },
     "output_type": "execute_result"
    }
   ],
   "source": [
    "nn_pred_test=sc_y.inverse_transform(model.predict(X_test))\n",
    "nn_test_r2=rsq(sc_y.inverse_transform(y_test),nn_pred_test)            \n",
    "nn_test_r2 "
   ]
  },
  {
   "cell_type": "code",
   "execution_count": 45,
   "metadata": {
    "colab": {
     "base_uri": "https://localhost:8080/",
     "height": 51
    },
    "colab_type": "code",
    "id": "bYZzVcCWPeN4",
    "outputId": "20219700-25c2-48d2-8a91-8f59c8b1e4fe"
   },
   "outputs": [
    {
     "name": "stdout",
     "output_type": "stream",
     "text": [
      " train RMSE : 17350.212167016012\n",
      " test RMSE : 17488.09113079128\n"
     ]
    }
   ],
   "source": [
    "import numpy as np\n",
    "from sklearn import metrics\n",
    "print(' train RMSE :', np.sqrt(metrics.mean_squared_error(sc_y.inverse_transform(y_train),nn_pred_train)))\n",
    "print(' test RMSE :', np.sqrt(metrics.mean_squared_error(sc_y.inverse_transform(y_test),nn_pred_test)))"
   ]
  },
  {
   "cell_type": "code",
   "execution_count": 46,
   "metadata": {
    "colab": {
     "base_uri": "https://localhost:8080/",
     "height": 34
    },
    "colab_type": "code",
    "id": "PBwD6rhzQE69",
    "outputId": "1f024ea4-26a5-44ff-e4af-fa41c1d7e2ab"
   },
   "outputs": [
    {
     "name": "stderr",
     "output_type": "stream",
     "text": [
      "Using TensorFlow backend.\n"
     ]
    }
   ],
   "source": [
    "from keras.models import model_from_json\n"
   ]
  },
  {
   "cell_type": "code",
   "execution_count": 47,
   "metadata": {
    "colab": {
     "base_uri": "https://localhost:8080/",
     "height": 34
    },
    "colab_type": "code",
    "id": "NemcJ8WPROf6",
    "outputId": "f9607775-5dc6-4b4a-cea6-dd78ca3f3227"
   },
   "outputs": [
    {
     "name": "stdout",
     "output_type": "stream",
     "text": [
      "Saved model to disk\n"
     ]
    }
   ],
   "source": [
    "# serialize model to JSON\n",
    "model_json = model.to_json()\n",
    "with open(\"model.json\", \"w\") as json_file:\n",
    "    json_file.write(model_json)\n",
    "# serialize weights to HDF5\n",
    "model.save_weights(\"model.h5\")\n",
    "print(\"Saved model to disk\")"
   ]
  },
  {
   "cell_type": "code",
   "execution_count": 50,
   "metadata": {
    "colab": {},
    "colab_type": "code",
    "id": "GyGNnV5xSlxM"
   },
   "outputs": [],
   "source": [
    "import keras\n",
    "\n"
   ]
  },
  {
   "cell_type": "code",
   "execution_count": 1,
   "metadata": {
    "colab": {
     "base_uri": "https://localhost:8080/",
     "height": 391
    },
    "colab_type": "code",
    "id": "JNXSEwlHRqnO",
    "outputId": "a62358f8-dd6a-4493-fe9d-db2d8b1b015a"
   },
   "outputs": [
    {
     "data": {
      "text/plain": [
       "'# load json and create model\\njson_file = open(\\'/content/model.json\\', \\'r\\')\\nloaded_model_json = json_file.read()\\njson_file.close()\\nloaded_model = model_from_json(loaded_model_json)\\n# load weights into new model\\nloaded_model.load_weights(\"/content/model.h5\")\\nprint(\"Loaded model from disk\")'"
      ]
     },
     "execution_count": 1,
     "metadata": {},
     "output_type": "execute_result"
    }
   ],
   "source": [
    "'''# load json and create model\n",
    "json_file = open('/content/model.json', 'r')\n",
    "loaded_model_json = json_file.read()\n",
    "json_file.close()\n",
    "loaded_model = model_from_json(loaded_model_json)\n",
    "# load weights into new model\n",
    "loaded_model.load_weights(\"/content/model.h5\")\n",
    "print(\"Loaded model from disk\")'''"
   ]
  },
  {
   "cell_type": "code",
   "execution_count": null,
   "metadata": {
    "colab": {},
    "colab_type": "code",
    "id": "BUBKW_MHR8HX"
   },
   "outputs": [],
   "source": []
  }
 ],
 "metadata": {
  "colab": {
   "name": "neural_network_part.ipynb",
   "provenance": []
  },
  "kernelspec": {
   "display_name": "Python 3",
   "language": "python",
   "name": "python3"
  },
  "language_info": {
   "codemirror_mode": {
    "name": "ipython",
    "version": 3
   },
   "file_extension": ".py",
   "mimetype": "text/x-python",
   "name": "python",
   "nbconvert_exporter": "python",
   "pygments_lexer": "ipython3",
   "version": "3.7.7"
  }
 },
 "nbformat": 4,
 "nbformat_minor": 1
}
